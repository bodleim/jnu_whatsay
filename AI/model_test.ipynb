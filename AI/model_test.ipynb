{
 "cells": [
  {
   "cell_type": "code",
   "execution_count": 20,
   "metadata": {},
   "outputs": [
    {
     "name": "stdout",
     "output_type": "stream",
     "text": [
      "1/1 [==============================] - 0s 307ms/step\n",
      "predicted result: [[0.10909773 0.2606222  0.18592054 0.4443596 ]]\n",
      "주제: 운동\n"
     ]
    }
   ],
   "source": [
    "import tensorflow as tf\n",
    "from keras.preprocessing.text import Tokenizer\n",
    "from keras.preprocessing.sequence import pad_sequences\n",
    "import numpy as np\n",
    "from sklearn.preprocessing import LabelEncoder\n",
    "\n",
    "# model load\n",
    "model = tf.keras.models.load_model('./recog_situation_model.h5')\n",
    "\n",
    "# input text\n",
    "input_text = input(\"write test text : \")\n",
    "\n",
    "# Tokenizing\n",
    "tokenizer = Tokenizer()\n",
    "tokenizer.fit_on_texts([input_text])\n",
    "\n",
    "input_sequence = tokenizer.texts_to_sequences([input_text])\n",
    "input_sequence = pad_sequences(input_sequence, maxlen=100)\n",
    "\n",
    "# predict\n",
    "prediction = model.predict(input_sequence)\n",
    "print(\"predicted result:\", prediction)\n",
    "\n",
    "for i in prediction:\n",
    "    pre_ans = i.argmax()  # 예측 레이블\n",
    "\n",
    "if pre_ans == 0: print(\"주제: 음식\")\n",
    "if pre_ans == 1: print(\"주제: IT\")\n",
    "if pre_ans == 2: print(\"주제: 정치\")\n",
    "if pre_ans == 3: print(\"주제: 운동\")\n"
   ]
  }
 ],
 "metadata": {
  "kernelspec": {
   "display_name": "Python 3",
   "language": "python",
   "name": "python3"
  },
  "language_info": {
   "codemirror_mode": {
    "name": "ipython",
    "version": 3
   },
   "file_extension": ".py",
   "mimetype": "text/x-python",
   "name": "python",
   "nbconvert_exporter": "python",
   "pygments_lexer": "ipython3",
   "version": "3.9.6"
  },
  "orig_nbformat": 4
 },
 "nbformat": 4,
 "nbformat_minor": 2
}
