{
 "cells": [
  {
   "cell_type": "code",
   "execution_count": 35,
   "metadata": {},
   "outputs": [],
   "source": [
    "import numpy as np\n",
    "import pandas as pd\n",
    "import csv\n",
    "from keras.models import Sequential\n",
    "from keras.layers import Embedding, LSTM, Dense\n",
    "from keras.preprocessing.text import Tokenizer\n",
    "from keras.preprocessing.sequence import pad_sequences\n",
    "from sklearn.model_selection import train_test_split\n",
    "import matplotlib.pyplot as plt\n",
    "import re\n",
    "\n",
    "# data load, preprocessing\n",
    "data = pd.read_csv('./dataset.txt', sep = \",\", quoting=csv.QUOTE_NONE, encoding='utf-8')\n",
    "texts = data['text_column']\n",
    "labels = data['label_column']\n"
   ]
  },
  {
   "cell_type": "code",
   "execution_count": 37,
   "metadata": {},
   "outputs": [],
   "source": [
    "from konlpy.tag import Okt\n",
    "\n",
    "# 한국어 전처리 함수 정의\n",
    "def preprocess_korean_text(text):\n",
    "    # 한국어 형태소 분석기 (KoNLPy)를 사용하여 토큰화\n",
    "    okt = Okt()\n",
    "    words = okt.morphs(text, stem=True)\n",
    "    text = ' '.join(words)\n",
    "    \n",
    "    # 특수 문자, 숫자, 공백 제거\n",
    "    text = re.sub(r'[^가-힣\\s]', '', text)\n",
    "    text = ' '.join(text.split())  # 중복 공백 제거\n",
    "    \n",
    "    # 불용어 제거\n",
    "    stopwords = ['을', '를', '이', '가', '은', '는', '에서', '에게', '에', '로', '으로', '도', '한', '그', '고', '와', '듯', '듯이', '만', '밖에']\n",
    "    tokens = text.split()\n",
    "    tokens = [word for word in tokens if word not in stopwords]\n",
    "    text = ' '.join(tokens)\n",
    "\n",
    "    return text\n",
    "\n",
    "# 텍스트 열에 전처리 함수 적용\n",
    "texts = texts.apply(preprocess_korean_text)"
   ]
  },
  {
   "cell_type": "code",
   "execution_count": 38,
   "metadata": {},
   "outputs": [
    {
     "name": "stdout",
     "output_type": "stream",
     "text": [
      "amount of datas : 14435\n",
      "food_data : 4529\n",
      "it_data : 3146\n",
      "school_data : 3775\n",
      "sports_data : 2700\n"
     ]
    }
   ],
   "source": [
    "print(\"amount of datas : \" + str(texts.count()))\n",
    "\n",
    "amount_of_food = 0\n",
    "amount_of_it = 0\n",
    "amount_of_school = 0\n",
    "amount_of_sports = 0\n",
    "\n",
    "for i in labels:\n",
    "    if i == 0:\n",
    "        amount_of_food += 1\n",
    "    elif i == 1:\n",
    "        amount_of_it += 1\n",
    "    elif i == 2:\n",
    "        amount_of_school += 1\n",
    "    elif i == 3:\n",
    "        amount_of_sports += 1\n",
    "\n",
    "print(\"food_data : \" + str(amount_of_food) + \"\\nit_data : \" + str(amount_of_it) + \"\\nschool_data : \" + str(amount_of_school) + \"\\nsports_data : \" + str(amount_of_sports))"
   ]
  },
  {
   "cell_type": "code",
   "execution_count": 39,
   "metadata": {},
   "outputs": [
    {
     "name": "stdout",
     "output_type": "stream",
     "text": [
      "오늘 뭐 먹다\n"
     ]
    }
   ],
   "source": [
    "print(texts[0])"
   ]
  },
  {
   "cell_type": "code",
   "execution_count": 40,
   "metadata": {},
   "outputs": [],
   "source": [
    "# 한글 텍스트 형태소 분석\n",
    "from konlpy.tag import Okt\n",
    "okt = Okt()\n",
    "#texts = texts.apply(lambda x: ' '.join(okt.morphs(x)))\n",
    "\n",
    "tokenizer = Tokenizer(num_words=500)\n",
    "tokenizer.fit_on_texts(texts)\n",
    "X = tokenizer.texts_to_sequences(texts)\n",
    "X = pad_sequences(X, maxlen=50)"
   ]
  },
  {
   "cell_type": "code",
   "execution_count": 41,
   "metadata": {},
   "outputs": [
    {
     "name": "stdout",
     "output_type": "stream",
     "text": [
      "감자 사용 요리 레시피 알다 감자 요리 좋아하다\n"
     ]
    }
   ],
   "source": [
    "print(texts[560])"
   ]
  },
  {
   "cell_type": "code",
   "execution_count": 42,
   "metadata": {},
   "outputs": [
    {
     "name": "stdout",
     "output_type": "stream",
     "text": [
      "0        0.0\n",
      "1        0.0\n",
      "2        0.0\n",
      "3        0.0\n",
      "4        0.0\n",
      "        ... \n",
      "14430    3.0\n",
      "14431    3.0\n",
      "14432    3.0\n",
      "14433    3.0\n",
      "14434    3.0\n",
      "Name: label_column, Length: 14435, dtype: float64\n"
     ]
    }
   ],
   "source": [
    "print(labels)"
   ]
  },
  {
   "cell_type": "code",
   "execution_count": 43,
   "metadata": {},
   "outputs": [
    {
     "name": "stdout",
     "output_type": "stream",
     "text": [
      "NaN 값을 가지는 인덱스: (array([  334,   390,   893,   987,   988,  1126,  1262,  1263,  1298,\n",
      "        1491,  1606,  1683,  1743,  1744,  1748,  1749,  1750,  1755,\n",
      "        1756,  1757,  1758,  1759,  1762,  1763,  1764,  1765,  1768,\n",
      "        1769,  1772,  1773,  1775,  1777,  1778,  1780,  1785,  1787,\n",
      "        1790,  1791,  1793,  1794,  1795,  1796,  1798,  1799,  1801,\n",
      "        1803,  1805,  1815,  1816,  1817,  1824,  1825,  1828,  1830,\n",
      "        1835,  1836,  1838,  2140,  2305,  2332,  2333,  2334,  2335,\n",
      "        2336,  2337,  2338,  2339,  2397,  2398,  2435,  2454,  2466,\n",
      "        2487,  2488,  2505,  2506,  2598,  2699,  2754,  2783,  2784,\n",
      "        2823,  2824,  2934,  2935,  3012,  3013,  3014,  3015,  3016,\n",
      "        3017,  3018,  3019,  3020,  3021,  3022,  3023,  3024,  3025,\n",
      "        3026,  3027,  3028,  3046,  3182,  3183,  3237,  3267,  3268,\n",
      "        3282,  3418,  3450,  3458,  3463,  3464,  3467,  3469,  3470,\n",
      "        3474,  3479,  3481,  3482,  3483,  3488,  3489,  3490,  3491,\n",
      "        3493,  3494,  3496,  3498,  3499,  3500,  3502,  3504,  3506,\n",
      "        3507,  3509,  3510,  3512,  3514,  3516,  3517,  3518,  3519,\n",
      "        3520,  3523,  3524,  3525,  3527,  3528,  3529,  3532,  3533,\n",
      "        3536,  3538,  3539,  3540,  3541,  3543,  3544,  3545,  3546,\n",
      "        3547,  3548,  3549,  3550,  3551,  3552,  3553,  3554,  3556,\n",
      "        3558,  3559,  3561,  3562,  3563,  3564,  3565,  3566,  3567,\n",
      "        3568,  3569,  3570,  3571,  3572,  3573,  3574,  3575,  3576,\n",
      "        3579,  3580,  3581,  3582,  3586,  3589,  3590,  3591,  3593,\n",
      "        3595,  3596,  3598,  3599,  3601,  3602,  3603,  3608,  3609,\n",
      "        3612,  3613,  3614,  3616,  3618,  3621,  3625,  3627,  3628,\n",
      "        3629,  3630,  3634,  3635,  3636,  4037,  4236,  4537,  4621,\n",
      "        4622,  9200,  9441,  9442,  9443,  9444,  9445,  9446,  9447,\n",
      "        9448,  9449,  9450,  9451,  9452,  9453,  9454,  9455,  9456,\n",
      "        9457,  9458,  9459,  9460,  9461,  9462,  9463,  9464,  9465,\n",
      "        9466,  9467,  9649,  9815,  9888,  9964, 10167, 10249, 10337,\n",
      "       10414, 10437, 10533, 10639, 10770, 10919, 10979, 11071, 11355,\n",
      "       11423, 11537, 11573, 11957, 12066, 12341, 12417, 12507, 12600,\n",
      "       12899, 12981, 13783, 13857, 13921, 14156], dtype=int64),)\n",
      "무한대 값을 가지는 인덱스: (array([], dtype=int64),)\n"
     ]
    }
   ],
   "source": [
    "import numpy as np\n",
    "\n",
    "# NaN 또는 무한대 값을 가지는 인덱스 검사\n",
    "nan_indices = np.where(np.isnan(labels))\n",
    "inf_indices = np.where(np.isinf(labels))\n",
    "\n",
    "print(\"NaN 값을 가지는 인덱스:\", nan_indices)\n",
    "print(\"무한대 값을 가지는 인덱스:\", inf_indices)\n"
   ]
  },
  {
   "cell_type": "code",
   "execution_count": 44,
   "metadata": {},
   "outputs": [],
   "source": [
    "# multiclass label prepare\n",
    "from keras.utils import to_categorical\n",
    "\n",
    "mean_value = labels.mean()\n",
    "labels.fillna(mean_value, inplace=True)\n",
    "\n",
    "# labels 배열을 정수로 변환\n",
    "labels = labels.astype(int)\n",
    "y = to_categorical(labels, num_classes=4)  # amount of class"
   ]
  },
  {
   "cell_type": "code",
   "execution_count": 45,
   "metadata": {},
   "outputs": [
    {
     "name": "stdout",
     "output_type": "stream",
     "text": [
      "0                          오늘 뭐 먹다\n",
      "1                        중국 음식 땡기다\n",
      "2                           피자 시키다\n",
      "3                       맵다 음식 좋아하다\n",
      "4                           고기 땡기다\n",
      "                   ...            \n",
      "14430    규칙 적 인 운동 신체 점점 강하다 만듭니 다\n",
      "14431           운동 우리 멘탈 건강 증진 시키다\n",
      "14432     유산 운동 신체 의 강력하다 기초 제공 하다\n",
      "14433           운동 우리 의 에너지 향상 시키다\n",
      "14434         근력 훈련 근육 의 부피 증가 시키다\n",
      "Name: text_column, Length: 14435, dtype: object\n"
     ]
    }
   ],
   "source": [
    "print(texts)"
   ]
  },
  {
   "cell_type": "code",
   "execution_count": 46,
   "metadata": {},
   "outputs": [
    {
     "name": "stdout",
     "output_type": "stream",
     "text": [
      "Epoch 1/20\n",
      "93/93 [==============================] - 3s 16ms/step - loss: 1.2340 - accuracy: 0.5683 - val_loss: 1.0056 - val_accuracy: 0.7494\n",
      "Epoch 2/20\n",
      "93/93 [==============================] - 1s 13ms/step - loss: 0.7444 - accuracy: 0.8597 - val_loss: 0.5211 - val_accuracy: 0.9165\n",
      "Epoch 3/20\n",
      "93/93 [==============================] - 1s 13ms/step - loss: 0.3988 - accuracy: 0.9466 - val_loss: 0.3405 - val_accuracy: 0.9455\n",
      "Epoch 4/20\n",
      "93/93 [==============================] - 1s 14ms/step - loss: 0.2830 - accuracy: 0.9599 - val_loss: 0.2741 - val_accuracy: 0.9524\n",
      "Epoch 5/20\n",
      "93/93 [==============================] - 1s 13ms/step - loss: 0.2311 - accuracy: 0.9651 - val_loss: 0.2436 - val_accuracy: 0.9528\n",
      "Epoch 6/20\n",
      "93/93 [==============================] - 1s 13ms/step - loss: 0.1995 - accuracy: 0.9687 - val_loss: 0.2210 - val_accuracy: 0.9550\n",
      "Epoch 7/20\n",
      "93/93 [==============================] - 1s 14ms/step - loss: 0.1777 - accuracy: 0.9701 - val_loss: 0.2072 - val_accuracy: 0.9563\n",
      "Epoch 8/20\n",
      "93/93 [==============================] - 1s 13ms/step - loss: 0.1614 - accuracy: 0.9719 - val_loss: 0.1965 - val_accuracy: 0.9580\n",
      "Epoch 9/20\n",
      "93/93 [==============================] - 1s 13ms/step - loss: 0.1483 - accuracy: 0.9736 - val_loss: 0.1923 - val_accuracy: 0.9576\n",
      "Epoch 10/20\n",
      "93/93 [==============================] - 1s 13ms/step - loss: 0.1388 - accuracy: 0.9751 - val_loss: 0.1840 - val_accuracy: 0.9589\n",
      "Epoch 11/20\n",
      "93/93 [==============================] - 1s 14ms/step - loss: 0.1301 - accuracy: 0.9759 - val_loss: 0.1831 - val_accuracy: 0.9550\n",
      "Epoch 12/20\n",
      "93/93 [==============================] - 1s 13ms/step - loss: 0.1241 - accuracy: 0.9761 - val_loss: 0.1760 - val_accuracy: 0.9589\n",
      "Epoch 13/20\n",
      "93/93 [==============================] - 1s 14ms/step - loss: 0.1178 - accuracy: 0.9765 - val_loss: 0.1721 - val_accuracy: 0.9597\n",
      "Epoch 14/20\n",
      "93/93 [==============================] - 1s 13ms/step - loss: 0.1128 - accuracy: 0.9765 - val_loss: 0.1713 - val_accuracy: 0.9584\n",
      "Epoch 15/20\n",
      "93/93 [==============================] - 1s 13ms/step - loss: 0.1087 - accuracy: 0.9774 - val_loss: 0.1697 - val_accuracy: 0.9589\n",
      "Epoch 16/20\n",
      "93/93 [==============================] - 1s 14ms/step - loss: 0.1055 - accuracy: 0.9778 - val_loss: 0.1737 - val_accuracy: 0.9545\n",
      "Epoch 17/20\n",
      "93/93 [==============================] - 1s 14ms/step - loss: 0.1013 - accuracy: 0.9787 - val_loss: 0.1683 - val_accuracy: 0.9576\n",
      "Epoch 18/20\n",
      "93/93 [==============================] - 1s 13ms/step - loss: 0.0970 - accuracy: 0.9793 - val_loss: 0.1680 - val_accuracy: 0.9563\n",
      "Epoch 19/20\n",
      "93/93 [==============================] - 1s 13ms/step - loss: 0.0938 - accuracy: 0.9792 - val_loss: 0.1669 - val_accuracy: 0.9567\n",
      "Epoch 20/20\n",
      "93/93 [==============================] - 1s 13ms/step - loss: 0.0910 - accuracy: 0.9796 - val_loss: 0.1677 - val_accuracy: 0.9558\n",
      "{'loss': [1.2340199947357178, 0.7444261908531189, 0.3987545073032379, 0.28297844529151917, 0.23105864226818085, 0.19948194921016693, 0.17769108712673187, 0.1613503247499466, 0.14833129942417145, 0.1387607604265213, 0.1301286667585373, 0.12407062202692032, 0.1178387850522995, 0.11276315897703171, 0.10870084166526794, 0.10552283376455307, 0.10126669704914093, 0.09704361110925674, 0.09377536922693253, 0.09095320850610733], 'accuracy': [0.5683048367500305, 0.8597099184989929, 0.9466334581375122, 0.9599480628967285, 0.9651439785957336, 0.9687161445617676, 0.9701234102249146, 0.9718554019927979, 0.9735873341560364, 0.9751028418540955, 0.975860595703125, 0.9760770797729492, 0.9765100479125977, 0.9765100479125977, 0.9773760437965393, 0.9778090715408325, 0.9786750674247742, 0.9793245196342468, 0.9792162775993347, 0.9796492457389832], 'val_loss': [1.0055756568908691, 0.5211004614830017, 0.3404788374900818, 0.2740911543369293, 0.24358554184436798, 0.2210046947002411, 0.20723116397857666, 0.1964963674545288, 0.192306250333786, 0.18399173021316528, 0.1831175684928894, 0.17604364454746246, 0.17213280498981476, 0.17128361761569977, 0.1696874052286148, 0.17365138232707977, 0.1682681441307068, 0.16804638504981995, 0.16688475012779236, 0.16769066452980042], 'val_accuracy': [0.7493506669998169, 0.9164502024650574, 0.9454545378684998, 0.9523809552192688, 0.9528138637542725, 0.954978346824646, 0.956277072429657, 0.9580086469650269, 0.9575757384300232, 0.9588744640350342, 0.954978346824646, 0.9588744640350342, 0.9597402811050415, 0.9584415555000305, 0.9588744640350342, 0.9545454382896423, 0.9575757384300232, 0.956277072429657, 0.9567099809646606, 0.9558441638946533]}\n"
     ]
    },
    {
     "data": {
      "image/png": "[encoded data removed]",
      "text/plain": [
       "<Figure size 640x480 with 1 Axes>"
      ]
     },
     "metadata": {},
     "output_type": "display_data"
    },
    {
     "data": {
      "image/png": "[encoded data removed]",
      "text/plain": [
       "<Figure size 640x480 with 1 Axes>"
      ]
     },
     "metadata": {},
     "output_type": "display_data"
    },
    {
     "name": "stdout",
     "output_type": "stream",
     "text": [
      "91/91 [==============================] - 0s 3ms/step - loss: 0.1556 - accuracy: 0.9629\n",
      "Loss: 0.15556186437606812, Accuracy: 0.9629372954368591\n",
      "학습된 모델이 저장되었습니다.\n"
     ]
    },
    {
     "name": "stderr",
     "output_type": "stream",
     "text": [
      "c:\\Users\\dargu\\AppData\\Local\\Programs\\Python\\Python39\\lib\\site-packages\\keras\\src\\engine\\training.py:3000: UserWarning: You are saving your model as an HDF5 file via `model.save()`. This file format is considered legacy. We recommend using instead the native Keras format, e.g. `model.save('my_model.keras')`.\n",
      "  saving_api.save_model(\n"
     ]
    }
   ],
   "source": [
    "# data divising\n",
    "X_train, X_test, y_train, y_test = train_test_split(X, y, test_size=0.2, random_state=42)\n",
    "\n",
    "# model structure\n",
    "model = Sequential()\n",
    "model.add(Embedding(input_dim=500, output_dim=64, input_length=50))\n",
    "model.add(LSTM(4))\n",
    "model.add(Dense(4, activation='softmax'))  # print softmax of 4 class\n",
    "\n",
    "# compile\n",
    "model.compile(loss='categorical_crossentropy', optimizer='adam', metrics=['accuracy'])\n",
    "\n",
    "# train\n",
    "from keras.callbacks import EarlyStopping \n",
    "early_stopping = EarlyStopping(patience = 2) # protect overfitting\n",
    "\n",
    "history = model.fit(X_train, y_train, epochs=20, batch_size=100, validation_split=0.2, verbose=1, callbacks = [early_stopping])\n",
    "print(history.history)\n",
    "\n",
    "# training visualizing (accuracy)\n",
    "plt.plot(history.history['accuracy'])\n",
    "plt.plot(history.history['val_accuracy'])\n",
    "plt.title('Model accuracy')\n",
    "plt.xlabel('Epoch')\n",
    "plt.ylabel('Accuracy')\n",
    "plt.legend(['Train', 'Test'], loc='upper left')\n",
    "plt.show()\n",
    "\n",
    "#training visualizing (loss)\n",
    "plt.plot(history.history['loss'])\n",
    "plt.plot(history.history['val_loss'])\n",
    "plt.title('Model loss')\n",
    "plt.xlabel('Epoch')\n",
    "plt.ylabel('Loss')\n",
    "plt.legend(['Train', 'Test'], loc='upper left')\n",
    "plt.show()\n",
    "\n",
    "# evaluate\n",
    "loss, accuracy = model.evaluate(X_test, y_test)\n",
    "print(f'Loss: {loss}, Accuracy: {accuracy}')\n",
    "\n",
    "# model save\n",
    "model.save('./recog_situation_model.h5')\n",
    "print(\"학습된 모델이 저장되었습니다.\")"
   ]
  },
  {
   "cell_type": "code",
   "execution_count": 47,
   "metadata": {},
   "outputs": [
    {
     "name": "stdout",
     "output_type": "stream",
     "text": [
      "Model: \"sequential_4\"\n",
      "_________________________________________________________________\n",
      " Layer (type)                Output Shape              Param #   \n",
      "=================================================================\n",
      " embedding_4 (Embedding)     (None, 50, 64)            32000     \n",
      "                                                                 \n",
      " lstm_4 (LSTM)               (None, 4)                 1104      \n",
      "                                                                 \n",
      " dense_4 (Dense)             (None, 4)                 20        \n",
      "                                                                 \n",
      "=================================================================\n",
      "Total params: 33124 (129.39 KB)\n",
      "Trainable params: 33124 (129.39 KB)\n",
      "Non-trainable params: 0 (0.00 Byte)\n",
      "_________________________________________________________________\n"
     ]
    }
   ],
   "source": [
    "model.summary()"
   ]
  }
 ],
 "metadata": {
  "kernelspec": {
   "display_name": "Python 3",
   "language": "python",
   "name": "python3"
  },
  "language_info": {
   "codemirror_mode": {
    "name": "ipython",
    "version": 3
   },
   "file_extension": ".py",
   "mimetype": "text/x-python",
   "name": "python",
   "nbconvert_exporter": "python",
   "pygments_lexer": "ipython3",
   "version": "3.9.6"
  },
  "orig_nbformat": 4
 },
 "nbformat": 4,
 "nbformat_minor": 2
}
